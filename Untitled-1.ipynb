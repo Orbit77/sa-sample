{
 "cells": [
  {
   "cell_type": "code",
   "execution_count": 3,
   "metadata": {},
   "outputs": [
    {
     "name": "stdout",
     "output_type": "stream",
     "text": [
      "no\n"
     ]
    }
   ],
   "source": [
    "x = False\n",
    "\n",
    "if (x):\n",
    "    print('test')\n",
    "else:\n",
    "    print('no')"
   ]
  },
  {
   "cell_type": "code",
   "execution_count": 15,
   "metadata": {},
   "outputs": [
    {
     "name": "stdout",
     "output_type": "stream",
     "text": [
      "(1, 'Vauxhall', 'Corsa', Decimal('12995.99'))\n",
      "(2, 'Vauxhall', 'Astra', Decimal('18995.00'))\n",
      "(3, 'Aston Martin', 'Vantage', Decimal('100995.00'))\n",
      "   id          make    model      price\n",
      "0   1      Vauxhall    Corsa   12995.99\n",
      "1   2      Vauxhall    Astra   18995.00\n",
      "2   3  Aston Martin  Vantage  100995.00\n",
      "   id          make    model      price    with_tax\n",
      "0   1      Vauxhall    Corsa   12995.99   15595.188\n",
      "1   2      Vauxhall    Astra   18995.00   22794.000\n",
      "2   3  Aston Martin  Vantage  100995.00  121194.000\n"
     ]
    },
    {
     "name": "stderr",
     "output_type": "stream",
     "text": [
      "/var/folders/g2/wv2xj5n91h314_2mb064bplh0000gn/T/ipykernel_2445/2879955993.py:19: UserWarning: pandas only supports SQLAlchemy connectable (engine/connection) or database string URI or sqlite3 DBAPI2 connection. Other DBAPI2 objects are not tested. Please consider using SQLAlchemy.\n",
      "  df = pd.read_sql(sql, conn)\n"
     ]
    }
   ],
   "source": [
    "import psycopg2\n",
    "import pandas as pd\n",
    "# connect to db\n",
    "\n",
    "sql = \"select * from data.car\"\n",
    "conn = psycopg2.connect(host=\"localhost\", database=\"db\", user=\"postgres\", password=\"postgres\")\n",
    "\n",
    "#open\n",
    "cur = conn.cursor()\n",
    "\n",
    "#execute query and print data\n",
    "cur.execute(sql)\n",
    "\n",
    "rows = cur.fetchall()\n",
    "for row in rows:\n",
    "    print(row)\n",
    "\n",
    "#cleanup\n",
    "cur.close()\n",
    "conn.close()\n",
    "\n",
    "\n",
    "#re execute and load to dataframe\n",
    "df = pd.read_sql(sql, conn)\n",
    "print (df.head(3))\n",
    "df = df.assign(with_tax=lambda x: x.price * 1.2)\n",
    "print (df)\n",
    "\n",
    "\n",
    "\n",
    "\n",
    "\n"
   ]
  }
 ],
 "metadata": {
  "kernelspec": {
   "display_name": "Python 3",
   "language": "python",
   "name": "python3"
  },
  "language_info": {
   "codemirror_mode": {
    "name": "ipython",
    "version": 3
   },
   "file_extension": ".py",
   "mimetype": "text/x-python",
   "name": "python",
   "nbconvert_exporter": "python",
   "pygments_lexer": "ipython3",
   "version": "3.11.1"
  },
  "orig_nbformat": 4,
  "vscode": {
   "interpreter": {
    "hash": "aee8b7b246df8f9039afb4144a1f6fd8d2ca17a180786b69acc140d282b71a49"
   }
  }
 },
 "nbformat": 4,
 "nbformat_minor": 2
}
